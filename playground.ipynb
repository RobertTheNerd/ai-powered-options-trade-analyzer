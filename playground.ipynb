{
 "cells": [
  {
   "cell_type": "code",
   "execution_count": null,
   "id": "e865026bc2561df6",
   "metadata": {},
   "outputs": [],
   "source": [
    "# auth token: PcKVLpIA4lmW0cSmtgL_4H5WnegeI5WXFcdcFRN6lpEzIgQG0N6kqw+C"
   ]
  },
  {
   "cell_type": "code",
   "execution_count": null,
   "id": "62af865a273bf423",
   "metadata": {
    "ExecuteTime": {
     "end_time": "2025-07-31T22:33:10.047085Z",
     "start_time": "2025-07-31T22:33:08.720532Z"
    }
   },
   "outputs": [
    {
     "name": "stdout",
     "output_type": "stream",
     "text": [
      "Requirement already satisfied: tastytrade in /Users/robert/miniconda3/envs/tradingagents/lib/python3.13/site-packages (10.3.0)\n",
      "Requirement already satisfied: httpx>=0.27.2 in /Users/robert/miniconda3/envs/tradingagents/lib/python3.13/site-packages (from tastytrade) (0.28.1)\n",
      "Requirement already satisfied: pandas-market-calendars>=4.4.1 in /Users/robert/miniconda3/envs/tradingagents/lib/python3.13/site-packages (from tastytrade) (5.1.1)\n",
      "Requirement already satisfied: pydantic>=2.9.2 in /Users/robert/miniconda3/envs/tradingagents/lib/python3.13/site-packages (from tastytrade) (2.11.7)\n",
      "Requirement already satisfied: websockets>=15 in /Users/robert/miniconda3/envs/tradingagents/lib/python3.13/site-packages (from tastytrade) (15.0.1)\n",
      "Requirement already satisfied: anyio in /Users/robert/miniconda3/envs/tradingagents/lib/python3.13/site-packages (from httpx>=0.27.2->tastytrade) (4.9.0)\n",
      "Requirement already satisfied: certifi in /Users/robert/miniconda3/envs/tradingagents/lib/python3.13/site-packages (from httpx>=0.27.2->tastytrade) (2025.7.14)\n",
      "Requirement already satisfied: httpcore==1.* in /Users/robert/miniconda3/envs/tradingagents/lib/python3.13/site-packages (from httpx>=0.27.2->tastytrade) (1.0.9)\n",
      "Requirement already satisfied: idna in /Users/robert/miniconda3/envs/tradingagents/lib/python3.13/site-packages (from httpx>=0.27.2->tastytrade) (3.10)\n",
      "Requirement already satisfied: h11>=0.16 in /Users/robert/miniconda3/envs/tradingagents/lib/python3.13/site-packages (from httpcore==1.*->httpx>=0.27.2->tastytrade) (0.16.0)\n",
      "Requirement already satisfied: pandas>=1.1 in /Users/robert/miniconda3/envs/tradingagents/lib/python3.13/site-packages (from pandas-market-calendars>=4.4.1->tastytrade) (2.3.1)\n",
      "Requirement already satisfied: tzdata in /Users/robert/miniconda3/envs/tradingagents/lib/python3.13/site-packages (from pandas-market-calendars>=4.4.1->tastytrade) (2025.2)\n",
      "Requirement already satisfied: python-dateutil in /Users/robert/miniconda3/envs/tradingagents/lib/python3.13/site-packages (from pandas-market-calendars>=4.4.1->tastytrade) (2.9.0.post0)\n",
      "Requirement already satisfied: exchange-calendars>=3.3 in /Users/robert/miniconda3/envs/tradingagents/lib/python3.13/site-packages (from pandas-market-calendars>=4.4.1->tastytrade) (4.11)\n",
      "Requirement already satisfied: numpy in /Users/robert/miniconda3/envs/tradingagents/lib/python3.13/site-packages (from exchange-calendars>=3.3->pandas-market-calendars>=4.4.1->tastytrade) (2.3.2)\n",
      "Requirement already satisfied: pyluach in /Users/robert/miniconda3/envs/tradingagents/lib/python3.13/site-packages (from exchange-calendars>=3.3->pandas-market-calendars>=4.4.1->tastytrade) (2.2.0)\n",
      "Requirement already satisfied: toolz in /Users/robert/miniconda3/envs/tradingagents/lib/python3.13/site-packages (from exchange-calendars>=3.3->pandas-market-calendars>=4.4.1->tastytrade) (1.0.0)\n",
      "Requirement already satisfied: korean_lunar_calendar in /Users/robert/miniconda3/envs/tradingagents/lib/python3.13/site-packages (from exchange-calendars>=3.3->pandas-market-calendars>=4.4.1->tastytrade) (0.3.1)\n",
      "Requirement already satisfied: pytz>=2020.1 in /Users/robert/miniconda3/envs/tradingagents/lib/python3.13/site-packages (from pandas>=1.1->pandas-market-calendars>=4.4.1->tastytrade) (2025.2)\n",
      "Requirement already satisfied: annotated-types>=0.6.0 in /Users/robert/miniconda3/envs/tradingagents/lib/python3.13/site-packages (from pydantic>=2.9.2->tastytrade) (0.7.0)\n",
      "Requirement already satisfied: pydantic-core==2.33.2 in /Users/robert/miniconda3/envs/tradingagents/lib/python3.13/site-packages (from pydantic>=2.9.2->tastytrade) (2.33.2)\n",
      "Requirement already satisfied: typing-extensions>=4.12.2 in /Users/robert/miniconda3/envs/tradingagents/lib/python3.13/site-packages (from pydantic>=2.9.2->tastytrade) (4.14.1)\n",
      "Requirement already satisfied: typing-inspection>=0.4.0 in /Users/robert/miniconda3/envs/tradingagents/lib/python3.13/site-packages (from pydantic>=2.9.2->tastytrade) (0.4.1)\n",
      "Requirement already satisfied: six>=1.5 in /Users/robert/miniconda3/envs/tradingagents/lib/python3.13/site-packages (from python-dateutil->pandas-market-calendars>=4.4.1->tastytrade) (1.17.0)\n",
      "Requirement already satisfied: sniffio>=1.1 in /Users/robert/miniconda3/envs/tradingagents/lib/python3.13/site-packages (from anyio->httpx>=0.27.2->tastytrade) (1.3.1)\n"
     ]
    }
   ],
   "source": [
    "%pip install tastytrade"
   ]
  },
  {
   "cell_type": "code",
   "execution_count": 6,
   "id": "c02b10f68d3c17e6",
   "metadata": {
    "ExecuteTime": {
     "end_time": "2025-07-31T22:34:04.967921Z",
     "start_time": "2025-07-31T22:34:04.933621Z"
    }
   },
   "outputs": [
    {
     "name": "stdout",
     "output_type": "stream",
     "text": [
      "🏪 STEP 1: Getting Stock Prices\n",
      "==================================================\n",
      "📋 Checking prices for our 9 favorite companies...\n",
      "📡 Connecting to the stock market...\n",
      "✅ Connected! Now listening for prices...\n",
      "   💰 ISRG: $483.68\n",
      "   💰 ENPH: $42.99\n",
      "   💰 XOM: $111.78\n",
      "   💰 AMZN: $218.58\n",
      "   💰 TSLA: $306.91\n",
      "   💰 CAT: $416.52\n",
      "   💰 NVDA: $177.00\n",
      "   💰 PLTR: $157.38\n",
      "   💰 DE: $521.45\n",
      "\n",
      "✅ Saved stock prices to: step1_stock_prices.json\n",
      "📊 Found prices for 9 companies!\n"
     ]
    },
    {
     "data": {
      "text/plain": [
       "{'step': 1,\n",
       " 'what_we_did': 'Got current stock prices',\n",
       " 'timestamp': '2025-07-31T18:48:20.063733',\n",
       " 'companies_checked': 9,\n",
       " 'stock_prices': {'ISRG': {'company_name': 'ISRG',\n",
       "   'current_price': 483.68,\n",
       "   'buy_price': 481.82,\n",
       "   'sell_price': 485.54,\n",
       "   'when_checked': '2025-07-31T18:48:19.989184'},\n",
       "  'ENPH': {'company_name': 'ENPH',\n",
       "   'current_price': 42.99,\n",
       "   'buy_price': 31.98,\n",
       "   'sell_price': 54.0,\n",
       "   'when_checked': '2025-07-31T18:48:19.989286'},\n",
       "  'XOM': {'company_name': 'XOM',\n",
       "   'current_price': 111.785,\n",
       "   'buy_price': 111.57,\n",
       "   'sell_price': 112.0,\n",
       "   'when_checked': '2025-07-31T18:48:19.989303'},\n",
       "  'AMZN': {'company_name': 'AMZN',\n",
       "   'current_price': 218.58,\n",
       "   'buy_price': 218.55,\n",
       "   'sell_price': 218.61,\n",
       "   'when_checked': '2025-07-31T18:48:19.989317'},\n",
       "  'TSLA': {'company_name': 'TSLA',\n",
       "   'current_price': 306.91,\n",
       "   'buy_price': 306.86,\n",
       "   'sell_price': 306.96,\n",
       "   'when_checked': '2025-07-31T18:48:19.989327'},\n",
       "  'CAT': {'company_name': 'CAT',\n",
       "   'current_price': 416.525,\n",
       "   'buy_price': 388.99,\n",
       "   'sell_price': 444.06,\n",
       "   'when_checked': '2025-07-31T18:48:19.989337'},\n",
       "  'NVDA': {'company_name': 'NVDA',\n",
       "   'current_price': 177.0,\n",
       "   'buy_price': 176.52,\n",
       "   'sell_price': 177.48,\n",
       "   'when_checked': '2025-07-31T18:48:19.989346'},\n",
       "  'PLTR': {'company_name': 'PLTR',\n",
       "   'current_price': 157.385,\n",
       "   'buy_price': 157.34,\n",
       "   'sell_price': 157.43,\n",
       "   'when_checked': '2025-07-31T18:48:19.989355'},\n",
       "  'DE': {'company_name': 'DE',\n",
       "   'current_price': 521.45,\n",
       "   'buy_price': 515.48,\n",
       "   'sell_price': 527.42,\n",
       "   'when_checked': '2025-07-31T18:48:19.989364'}}}"
      ]
     },
     "execution_count": 6,
     "metadata": {},
     "output_type": "execute_result"
    }
   ],
   "source": [
    "# Step 1: Get Stock Prices - Like checking price tags!\n",
    "import asyncio\n",
    "import json\n",
    "from datetime import datetime\n",
    "from tastytrade import Session, DXLinkStreamer\n",
    "from tastytrade.dxfeed import Quote\n",
    "\n",
    "USERNAME = \"robertwayne\"  # Replace with your username\n",
    "PASSWORD = \"Tastytrade168*\"      # Replace with your password\n",
    "\n",
    "# Our 9 favorite companies to trade\n",
    "COMPANIES = [\n",
    "    'NVDA',  # NVIDIA (makes computer chips)\n",
    "    'TSLA',  # Tesla (electric cars)\n",
    "    'AMZN',  # Amazon (online shopping)\n",
    "    'ISRG',  # Intuitive Surgical (robot surgery)\n",
    "    'PLTR',  # Palantir (data analysis)\n",
    "    'ENPH',  # Enphase Energy (solar power)\n",
    "    'XOM',   # Exxon Mobil (oil company)\n",
    "    'DE',    # John Deere (farm equipment)\n",
    "    'CAT'    # Caterpillar (construction equipment)\n",
    "]\n",
    "\n",
    "async def get_stock_prices():\n",
    "    print(\"🏪 STEP 1: Getting Stock Prices\")\n",
    "    print(\"=\" * 50)\n",
    "    print(\"📋 Checking prices for our 9 favorite companies...\")\n",
    "\n",
    "    session = Session(USERNAME, PASSWORD)\n",
    "    stock_prices = {}\n",
    "\n",
    "    async with DXLinkStreamer(session) as streamer:\n",
    "        print(\"📡 Connecting to the stock market...\")\n",
    "        await streamer.subscribe(Quote, COMPANIES)\n",
    "        print(\"✅ Connected! Now listening for prices...\")\n",
    "\n",
    "        collected = set()\n",
    "        start_time = asyncio.get_event_loop().time()\n",
    "\n",
    "        while len(collected) < len(COMPANIES) and (asyncio.get_event_loop().time() - start_time) < 30:\n",
    "            try:\n",
    "                quote = await asyncio.wait_for(streamer.get_event(Quote), timeout=5.0)\n",
    "\n",
    "                if quote and quote.event_symbol in COMPANIES and quote.event_symbol not in collected:\n",
    "                    company = quote.event_symbol\n",
    "                    price = float((quote.bid_price + quote.ask_price) / 2)\n",
    "\n",
    "                    stock_prices[company] = {\n",
    "                        'company_name': company,\n",
    "                        'current_price': price,\n",
    "                        'buy_price': float(quote.bid_price),\n",
    "                        'sell_price': float(quote.ask_price),\n",
    "                        'when_checked': datetime.now().isoformat()\n",
    "                    }\n",
    "\n",
    "                    collected.add(company)\n",
    "                    print(f\"   💰 {company}: ${price:.2f}\")\n",
    "\n",
    "            except asyncio.TimeoutError:\n",
    "                continue\n",
    "\n",
    "    # Save our results\n",
    "    result = {\n",
    "        'step': 1,\n",
    "        'what_we_did': 'Got current stock prices',\n",
    "        'timestamp': datetime.now().isoformat(),\n",
    "        'companies_checked': len(stock_prices),\n",
    "        'stock_prices': stock_prices\n",
    "    }\n",
    "\n",
    "    filename = 'step1_stock_prices.json'\n",
    "    with open(filename, 'w') as f:\n",
    "        json.dump(result, f, indent=2)\n",
    "\n",
    "    print(f\"\\n✅ Saved stock prices to: {filename}\")\n",
    "    print(f\"📊 Found prices for {len(stock_prices)} companies!\")\n",
    "    return result\n",
    "\n",
    "await get_stock_prices()"
   ]
  },
  {
   "cell_type": "code",
   "execution_count": null,
   "id": "2ca46ec4",
   "metadata": {},
   "outputs": [],
   "source": []
  }
 ],
 "metadata": {
  "kernelspec": {
   "display_name": "tradingagents",
   "language": "python",
   "name": "python3"
  },
  "language_info": {
   "codemirror_mode": {
    "name": "ipython",
    "version": 3
   },
   "file_extension": ".py",
   "mimetype": "text/x-python",
   "name": "python",
   "nbconvert_exporter": "python",
   "pygments_lexer": "ipython3",
   "version": "3.13.5"
  }
 },
 "nbformat": 4,
 "nbformat_minor": 5
}
